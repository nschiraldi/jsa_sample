{
 "cells": [
  {
   "cell_type": "code",
   "execution_count": 1,
   "metadata": {},
   "outputs": [],
   "source": [
    "import xarray as xr\n",
    "import numpy as np\n",
    "import statsmodels.api as sm\n",
    "import pandas as pd\n",
    "import matplotlib.pyplot as plt"
   ]
  },
  {
   "cell_type": "markdown",
   "metadata": {},
   "source": [
    "### load in the forecast data, create temperature time series"
   ]
  },
  {
   "cell_type": "markdown",
   "metadata": {},
   "source": [
    "We know that the evolution of forecasts from numerical weather prediction is sensitive to the models initial conditions. Ensemble sensitivity analysis tries to identify patterns in the Atmosphere that a forecast value may sensitive to, using simple linear regression. We are extending this principle to say \"changes in the 1 - 5 will effect the 6 - 10\". If we could prove this successful with back-testing, this could be used to automatically trade model deltas. We would need to better understand if such trades have enough liquidity to be worthwhile. \n",
    "\n",
    "In the interest of time and computing power, I have kept this to just be a simple linear regression, but in practice we would probably go down a different path (RLM, NNet, etc.). I am looking to see if changes in NH 500mb pressure patterns the 1 - 5 can be used to predict the next (06Z) runs changes in 6-10 US CDDs. \n",
    "\n",
    "*Issues* \n",
    "- We are assuming the ensemble is well calibrated and captures all possibilities, which it is not\n",
    "- n=21 in the regression\n",
    "- Using the entire northern hemisphere, when most of it is probably not relevant\n",
    "- Obviously, we can't actually say what is presented here is meaningful\n",
    "\n",
    "*A better way to do this*\n",
    "- autocorrelate CDDs with 500-hPa patterns to better tune gridpoints used in regression and filter out the noise\n",
    "- autocorrelate with 500-hPa EOFs to try and filter out some noise\n",
    "- filter out non-significant gridpoints\n",
    "- Try this on a larger multimodel ensemble, perhaps use the last 4 runs to increase training size\n",
    "- Add more features than just H500"
   ]
  },
  {
   "cell_type": "code",
   "execution_count": 2,
   "metadata": {},
   "outputs": [],
   "source": [
    "# Training forecast\n",
    "fcst1=xr.open_dataset(\n",
    "    'http://thredds-jetstream.unidata.ucar.edu/thredds/dodsC/grib/NCEP/GEFS/Global_1p0deg_Ensemble/members/GEFS_Global_1p0deg_Ensemble_20200527_0000.grib2',\n",
    "    chunks={'ens': 21}\n",
    ")\n",
    "cdds=pd.read_csv('gfs-ens-cdds_20200527.csv')\n",
    "cdds00=cdds[cdds.run=='gfs-ens-00z'].cdds.values.reshape(65,21)[1::4] # shift 6H to align with gfs-ens-06z\n",
    "cdds06=cdds[cdds.run=='gfs-ens-06z'].cdds.values.reshape(65,21)[::4]\n",
    "\n",
    "# H500 for sensitivity\n",
    "h500=fcst1.Geopotential_height_isobaric_ens.sel(isobaric3=50000,lat=slice(90,0)).resample(time='D').mean().compute()\n",
    "\n",
    "# Forecast 2\n",
    "fcst2=xr.open_dataset(\n",
    "    'http://thredds-jetstream.unidata.ucar.edu/thredds/dodsC/grib/NCEP/GEFS/Global_1p0deg_Ensemble/members/GEFS_Global_1p0deg_Ensemble_20200527_0600.grib2',\n",
    "    chunks={'ens': 21}\n",
    ")\n",
    "h500_2=fcst2.Geopotential_height_isobaric_ens.sel(isobaric3=50000,lat=slice(90,0)).resample(time='D').mean().compute()\n",
    "\n",
    "# # estimate temperature over population centers \n",
    "# tmp_mwe=fcst1.Temperature_height_above_ground_ens.sel(\n",
    "#     lat=slice(42.2,32.2),\n",
    "#     lon=slice(360-88.9,360-73.2)\n",
    "# ).squeeze()\n",
    "\n",
    "# # cos weight latitude\n",
    "# cosweight=np.tile(\n",
    "#     np.sqrt(\n",
    "#         np.cos(\n",
    "#             np.deg2rad(\n",
    "#                 tmp_mwe.lat.values\n",
    "#             )\n",
    "#         )\n",
    "#     ).reshape(1,-1),(tmp_mwe.shape[0],tmp_mwe.shape[1],tmp_mwe.shape[3],1)).transpose(0,1,3,2)\n",
    "\n",
    "# resample to daily\n",
    "# tmp_mwe=(tmp_mwe*cosweight).mean(['lat','lon']).resample(time='D').mean()"
   ]
  },
  {
   "cell_type": "code",
   "execution_count": 5,
   "metadata": {},
   "outputs": [],
   "source": [
    "X=sm.add_constant(h500.isel(time=slice(1,4)).mean('time').values.reshape(21,91*360))\n",
    "Y=cdds00[5:9,:].sum(axis=0)\n",
    "mdl=sm.OLS(Y,X).fit()\n",
    "\n",
    "Xpred=sm.add_constant(h500_2.isel(time=slice(1,4)).mean('time').values.reshape(21,91*360))\n",
    "new_dist=mdl.predict(Xpred)"
   ]
  },
  {
   "cell_type": "code",
   "execution_count": 10,
   "metadata": {},
   "outputs": [
    {
     "data": {
      "text/plain": [
       "<matplotlib.legend.Legend at 0x7fb1304f8d90>"
      ]
     },
     "execution_count": 10,
     "metadata": {},
     "output_type": "execute_result"
    },
    {
     "data": {
      "image/png": "[encoded data removed]",
      "text/plain": [
       "<Figure size 432x288 with 1 Axes>"
      ]
     },
     "metadata": {
      "needs_background": "light"
     },
     "output_type": "display_data"
    }
   ],
   "source": [
    "Yreal=cdds06[5:9,:].sum(axis=0)\n",
    "\n",
    "fig,ax=plt.subplots()\n",
    "ax.hist(Y,label=f'00z Distribution | mean={Y.mean():0.1f}',alpha=0.4)\n",
    "ax.hist(new_dist,label=f'Predicted 06Z Distribution | {new_dist.mean():0.1f}',alpha=0.4)\n",
    "ax.hist(Yreal,label=f'Real 06Z Distribution | {Yreal.mean():0.1f}',alpha=0.4)\n",
    "ax.legend()"
   ]
  },
  {
   "cell_type": "code",
   "execution_count": null,
   "metadata": {},
   "outputs": [],
   "source": []
  }
 ],
 "metadata": {
  "kernelspec": {
   "display_name": "janestreet",
   "language": "python",
   "name": "janestreet"
  },
  "language_info": {
   "codemirror_mode": {
    "name": "ipython",
    "version": 3
   },
   "file_extension": ".py",
   "mimetype": "text/x-python",
   "name": "python",
   "nbconvert_exporter": "python",
   "pygments_lexer": "ipython3",
   "version": "3.7.7"
  }
 },
 "nbformat": 4,
 "nbformat_minor": 4
}
